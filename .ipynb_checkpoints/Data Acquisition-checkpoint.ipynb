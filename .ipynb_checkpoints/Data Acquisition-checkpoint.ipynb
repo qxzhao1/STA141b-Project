{
 "cells": [
  {
   "cell_type": "markdown",
   "metadata": {},
   "source": [
    "# STEP 1 - WEB SCRAPING"
   ]
  },
  {
   "cell_type": "markdown",
   "metadata": {},
   "source": [
    "In this part, first we requested the API from Indeed website. Then we did webscraping to extract the job de"
   ]
  },
  {
   "cell_type": "markdown",
   "metadata": {},
   "source": [
    "### The results of Step 1.1 are three CSV files:\n",
    "\n",
    "* 'job_ca_statistics.csv'\n",
    "\n",
    "* 'job_ca_chemical engineering.csv'\n",
    "\n",
    "* 'job_ca_materials science.csv'\n",
    "\n",
    "### The results of Step 1.2 are three CSV files:\n",
    "\n",
    "* 'summary_stat.csv'\n",
    "\n",
    "* 'summary_che.csv'\n",
    "\n",
    "* 'summary_mse.csv'\n",
    "\n",
    "### Step 2.1 and 2.2 repeats the same job for \"internship\""
   ]
  },
  {
   "cell_type": "markdown",
   "metadata": {},
   "source": [
    "## Step 1.1 - Using API to get Job Posts"
   ]
  },
  {
   "cell_type": "code",
   "execution_count": 1,
   "metadata": {},
   "outputs": [
    {
     "ename": "ModuleNotFoundError",
     "evalue": "No module named 'requests_cache'",
     "output_type": "error",
     "traceback": [
      "\u001b[1;31m---------------------------------------------------------------------------\u001b[0m",
      "\u001b[1;31mModuleNotFoundError\u001b[0m                       Traceback (most recent call last)",
      "\u001b[1;32m<ipython-input-1-8742eef17abb>\u001b[0m in \u001b[0;36m<module>\u001b[1;34m()\u001b[0m\n\u001b[0;32m      1\u001b[0m \u001b[1;32mimport\u001b[0m \u001b[0mrequests\u001b[0m\u001b[1;33m\u001b[0m\u001b[0m\n\u001b[1;32m----> 2\u001b[1;33m \u001b[1;32mimport\u001b[0m \u001b[0mrequests_cache\u001b[0m\u001b[1;33m\u001b[0m\u001b[0m\n\u001b[0m\u001b[0;32m      3\u001b[0m \u001b[0mrequests_cache\u001b[0m\u001b[1;33m.\u001b[0m\u001b[0minstall_cache\u001b[0m\u001b[1;33m(\u001b[0m\u001b[1;34m\"cache\"\u001b[0m\u001b[1;33m)\u001b[0m\u001b[1;33m\u001b[0m\u001b[0m\n\u001b[0;32m      4\u001b[0m \u001b[1;32mimport\u001b[0m \u001b[0mpandas\u001b[0m \u001b[1;32mas\u001b[0m \u001b[0mpd\u001b[0m\u001b[1;33m\u001b[0m\u001b[0m\n\u001b[0;32m      5\u001b[0m \u001b[1;32mfrom\u001b[0m \u001b[0mbs4\u001b[0m \u001b[1;32mimport\u001b[0m \u001b[0mBeautifulSoup\u001b[0m\u001b[1;33m\u001b[0m\u001b[0m\n",
      "\u001b[1;31mModuleNotFoundError\u001b[0m: No module named 'requests_cache'"
     ]
    }
   ],
   "source": [
    "import requests\n",
    "import requests_cache\n",
    "requests_cache.install_cache(\"cache\")\n",
    "import pandas as pd\n",
    "from bs4 import BeautifulSoup\n",
    "\n",
    "from matplotlib import pyplot as plt\n",
    "import string\n",
    "import nltk\n",
    "from nltk.stem.porter import PorterStemmer\n",
    "from nltk.corpus import stopwords\n",
    "from sklearn.feature_extraction.text import TfidfVectorizer   # sklearn --- primer machine learning package\n",
    "from sklearn.neighbors import NearestNeighbors"
   ]
  },
  {
   "cell_type": "code",
   "execution_count": 7,
   "metadata": {},
   "outputs": [],
   "source": [
    "def get_indeed(city, state, keyword, radius, jobtype = \"fulltime\", start = 0, publisher_id = publisher_id):\n",
    "    url = \"http://api.indeed.com/ads/apisearch?\"\n",
    "    if city == \"\":\n",
    "        location = state\n",
    "    else: \n",
    "        location = city + ', ' + state\n",
    "    result = requests.get(url, params = {\n",
    "            \"q\": keyword,\n",
    "            \"v\": 2,\n",
    "            \"format\": \"json\",\n",
    "            \"publisher\": publisher_id,\n",
    "            \"l\": location,\n",
    "            \"jt\": jobtype, # \"fulltime\", \"parttime\", \"contract\", \"internship\", \"temporary\"\n",
    "            \"radius\": radius,\n",
    "            \"start\": start,\n",
    "            \"limit\": 100,\n",
    "            \"latlong\": 1})\n",
    "    result = result.json()['results']\n",
    "    return result"
   ]
  },
  {
   "cell_type": "code",
   "execution_count": 22,
   "metadata": {},
   "outputs": [],
   "source": [
    "def create_job_list(major, jt = \"fulltime\"):\n",
    "    '''This function creates the job list of a major and saves the dataframe as a csv file\n",
    "    Input:  major ----- \"statistics\", \"chemical engineering\", \"material science\"\n",
    "    Output: shape ----- shape of the dataframe\n",
    "            job_list -- a dataframe of the job list of the specified major\n",
    "    '''\n",
    "    job_list = pd.DataFrame()\n",
    "    for i in range(0,5000,25):\n",
    "        temp = pd.DataFrame(get_indeed('','ca', major, 0, jobtype = jt, start = i))\n",
    "        job_list = job_list.append(temp, ignore_index = True)\n",
    "        \n",
    "    # drop duplicate rows\n",
    "    job_list = job_list.drop_duplicates(subset = ['jobkey'])\n",
    "    if jt == \"fulltime\":\n",
    "        filename = 'job_ca_' + major + '.csv'\n",
    "    else:\n",
    "        filename = 'job_ca_' + major + '_intern.csv'\n",
    "    job_list.to_csv(filename)\n",
    "    return job_list.shape, job_list"
   ]
  },
  {
   "cell_type": "code",
   "execution_count": 5,
   "metadata": {},
   "outputs": [],
   "source": [
    "shape_stat, stat_joblist = create_job_list(\"statistics\")\n",
    "shape_che, che_joblist = create_job_list(\"chemical engineering\")\n",
    "shape_mse, mst_joblist = create_job_list(\"materials science\")"
   ]
  },
  {
   "cell_type": "markdown",
   "metadata": {
    "collapsed": true
   },
   "source": [
    "## Step 1.2 - Webscraping each post"
   ]
  },
  {
   "cell_type": "code",
   "execution_count": 29,
   "metadata": {
    "collapsed": true
   },
   "outputs": [],
   "source": [
    "def csv2job_url_list(major, jt = \"fulltime\"):\n",
    "    '''This function reads the csv file of the specified major and returns the list of urls.\n",
    "       The url list will be used for web scraping for detailed job descriptions\n",
    "    Input:  major ----- \"statistics\", \"chemical engineering\", \"material science\"\n",
    "    Output: url_list -- list object, urls of job posts\n",
    "    '''\n",
    "#     filename = 'job_ca_' + major + '.csv'\n",
    "    if jt == \"fulltime\":\n",
    "        filename = 'job_ca_' + major + '.csv'\n",
    "    else:\n",
    "        filename = 'job_ca_' + major + '_intern.csv'\n",
    "    job_list = pd.read_csv(filename,index_col=False)\n",
    "    return list(job_list['url'])"
   ]
  },
  {
   "cell_type": "code",
   "execution_count": 30,
   "metadata": {},
   "outputs": [],
   "source": [
    "def get_post_details(url):\n",
    "    \"\"\"\n",
    "    This function extracts information of one post by taking a url as input\n",
    "    Output is a dictionary with job title, company name, and description of the job.\n",
    "    \"\"\"\n",
    "    post_doc = requests.get(url).content\n",
    "    post = BeautifulSoup(post_doc, 'html.parser')\n",
    "    try:\n",
    "        title = post.find('b',attrs={'class':'jobtitle'}).text\n",
    "    except AttributeError:\n",
    "        title = ''\n",
    "    try:\n",
    "        company = post.find(attrs={'class':'company'}).text\n",
    "    except AttributeError:\n",
    "        company = ''\n",
    "        \n",
    "    dis_html = post.find(attrs={'id':'job_summary'})\n",
    "    #dis_html = post.find(attrs={'class':'snip'})\n",
    "    \n",
    "    post_dict = {'title':title, 'company':company, 'description':dis_html}\n",
    "    return post_dict"
   ]
  },
  {
   "cell_type": "markdown",
   "metadata": {},
   "source": [
    "## The following 3 cells run forever! Be careful!"
   ]
  },
  {
   "cell_type": "code",
   "execution_count": 10,
   "metadata": {
    "collapsed": true
   },
   "outputs": [],
   "source": [
    "# get dataframes of the majors\n",
    "stat_url_list = csv2job_url_list(\"statistics\")\n",
    "stat_summary = [get_post_details(url) for url in stat_url_list]\n",
    "stat_summary = pd.DataFrame(stat_summary)\n",
    "stat_summary.head()\n",
    "stat_summary.to_csv('summary_stat.csv')"
   ]
  },
  {
   "cell_type": "code",
   "execution_count": 18,
   "metadata": {},
   "outputs": [],
   "source": [
    "che_url_list = csv2job_url_list(\"chemical engineering\")\n",
    "che_summary = [get_post_details(url) for url in che_url_list]\n",
    "che_summary = pd.DataFrame(che_summary)\n",
    "che_summary.head()\n",
    "che_summary.to_csv('summary_che.csv')"
   ]
  },
  {
   "cell_type": "code",
   "execution_count": 27,
   "metadata": {},
   "outputs": [
    {
     "data": {
      "text/html": [
       "<div>\n",
       "<table border=\"1\" class=\"dataframe\">\n",
       "  <thead>\n",
       "    <tr style=\"text-align: right;\">\n",
       "      <th></th>\n",
       "      <th>company</th>\n",
       "      <th>description</th>\n",
       "      <th>title</th>\n",
       "    </tr>\n",
       "  </thead>\n",
       "  <tbody>\n",
       "    <tr>\n",
       "      <th>0</th>\n",
       "      <td>Lawrence Livermore National Laboratory</td>\n",
       "      <td>&lt;span class=\"summary\" id=\"job_summary\"&gt;Materia...</td>\n",
       "      <td>Materials Scientist/Physicist</td>\n",
       "    </tr>\n",
       "    <tr>\n",
       "      <th>1</th>\n",
       "      <td>Intel</td>\n",
       "      <td>&lt;span class=\"summary\" id=\"job_summary\"&gt;Job Des...</td>\n",
       "      <td>R&amp;D Process Engineer</td>\n",
       "    </tr>\n",
       "    <tr>\n",
       "      <th>2</th>\n",
       "      <td>Tesla Motors</td>\n",
       "      <td>&lt;span class=\"summary\" id=\"job_summary\"&gt;Failure...</td>\n",
       "      <td>Reliability Engineer - Failure Analysis</td>\n",
       "    </tr>\n",
       "    <tr>\n",
       "      <th>3</th>\n",
       "      <td>SpaceX</td>\n",
       "      <td>&lt;span class=\"summary\" id=\"job_summary\"&gt;SpaceX ...</td>\n",
       "      <td>Materials Engineer (Avionics)</td>\n",
       "    </tr>\n",
       "    <tr>\n",
       "      <th>4</th>\n",
       "      <td>Google</td>\n",
       "      <td>&lt;span class=\"summary\" id=\"job_summary\"&gt;Our com...</td>\n",
       "      <td>Reliability Engineer, Failure Analysis and Mat...</td>\n",
       "    </tr>\n",
       "  </tbody>\n",
       "</table>\n",
       "</div>"
      ],
      "text/plain": [
       "                                  company  \\\n",
       "0  Lawrence Livermore National Laboratory   \n",
       "1                                   Intel   \n",
       "2                            Tesla Motors   \n",
       "3                                  SpaceX   \n",
       "4                                  Google   \n",
       "\n",
       "                                         description  \\\n",
       "0  <span class=\"summary\" id=\"job_summary\">Materia...   \n",
       "1  <span class=\"summary\" id=\"job_summary\">Job Des...   \n",
       "2  <span class=\"summary\" id=\"job_summary\">Failure...   \n",
       "3  <span class=\"summary\" id=\"job_summary\">SpaceX ...   \n",
       "4  <span class=\"summary\" id=\"job_summary\">Our com...   \n",
       "\n",
       "                                               title  \n",
       "0                      Materials Scientist/Physicist  \n",
       "1                               R&D Process Engineer  \n",
       "2            Reliability Engineer - Failure Analysis  \n",
       "3                      Materials Engineer (Avionics)  \n",
       "4  Reliability Engineer, Failure Analysis and Mat...  "
      ]
     },
     "execution_count": 27,
     "metadata": {},
     "output_type": "execute_result"
    }
   ],
   "source": [
    "mse_url_list = csv2job_url_list(\"materials science\")\n",
    "mse_summary = [get_post_details(url) for url in mse_url_list]\n",
    "mse_summary = pd.DataFrame(mse_summary)\n",
    "mse_summary.to_csv('summary_mse.csv')\n",
    "mse_summary.head()"
   ]
  },
  {
   "cell_type": "markdown",
   "metadata": {},
   "source": [
    "## Step 2.1 Job Post DataFrame of \"Internship\""
   ]
  },
  {
   "cell_type": "code",
   "execution_count": 23,
   "metadata": {},
   "outputs": [
    {
     "name": "stdout",
     "output_type": "stream",
     "text": [
      "(249, 20)\n"
     ]
    }
   ],
   "source": [
    "shape_stat, stat_joblist_intern = create_job_list(major = \"statistics\", jt = \"internship\")\n",
    "print(shape_stat)"
   ]
  },
  {
   "cell_type": "code",
   "execution_count": 26,
   "metadata": {},
   "outputs": [
    {
     "name": "stdout",
     "output_type": "stream",
     "text": [
      "(104, 20)\n"
     ]
    }
   ],
   "source": [
    "shape_che, che_joblist_intern = create_job_list(\"chemical engineering\", jt = \"internship\")\n",
    "print(shape_che)"
   ]
  },
  {
   "cell_type": "code",
   "execution_count": 27,
   "metadata": {},
   "outputs": [
    {
     "name": "stdout",
     "output_type": "stream",
     "text": [
      "(232, 20)\n"
     ]
    }
   ],
   "source": [
    "shape_mse, mst_joblist_intern = create_job_list(\"materials science\", jt = \"internship\")\n",
    "print(shape_mse)"
   ]
  },
  {
   "cell_type": "markdown",
   "metadata": {},
   "source": [
    "## Step 2.2 Job Summary DataFrame of \"Internship\""
   ]
  },
  {
   "cell_type": "code",
   "execution_count": 31,
   "metadata": {
    "collapsed": true
   },
   "outputs": [],
   "source": [
    "# get dataframes of the majors\n",
    "stat_url_list_intern = csv2job_url_list(\"statistics\", jt = \"internship\")\n",
    "stat_summary_intern = [get_post_details(url) for url in stat_url_list_intern]\n",
    "stat_summary_intern = pd.DataFrame(stat_summary_intern)\n",
    "stat_summary_intern.head()\n",
    "stat_summary_intern.to_csv('summary_stat_intern.csv')"
   ]
  },
  {
   "cell_type": "code",
   "execution_count": 33,
   "metadata": {
    "collapsed": true
   },
   "outputs": [],
   "source": [
    "che_url_list_intern = csv2job_url_list(\"chemical engineering\", jt = \"internship\")\n",
    "che_summary_intern = [get_post_details(url) for url in che_url_list_intern]\n",
    "che_summary_intern = pd.DataFrame(che_summary_intern)\n",
    "che_summary_intern.head()\n",
    "che_summary_intern.to_csv('summary_che_intern.csv')"
   ]
  },
  {
   "cell_type": "code",
   "execution_count": 38,
   "metadata": {
    "collapsed": true
   },
   "outputs": [],
   "source": [
    "mse_url_list_intern = csv2job_url_list(\"materials science\", jt = \"internship\")\n",
    "mse_summary_intern = [get_post_details(url) for url in mse_url_list_intern]\n",
    "mse_summary_intern = pd.DataFrame(mse_summary_intern)\n",
    "mse_summary_intern.head()\n",
    "mse_summary_intern.to_csv('summary_mse_intern.csv')"
   ]
  },
  {
   "cell_type": "code",
   "execution_count": 37,
   "metadata": {},
   "outputs": [
    {
     "data": {
      "text/html": [
       "<div>\n",
       "<table border=\"1\" class=\"dataframe\">\n",
       "  <thead>\n",
       "    <tr style=\"text-align: right;\">\n",
       "      <th></th>\n",
       "      <th>company</th>\n",
       "      <th>description</th>\n",
       "      <th>title</th>\n",
       "    </tr>\n",
       "  </thead>\n",
       "  <tbody>\n",
       "    <tr>\n",
       "      <th>0</th>\n",
       "      <td>The Aerospace Corporation</td>\n",
       "      <td>&lt;span class=\"summary\" id=\"job_summary\"&gt;Requisi...</td>\n",
       "      <td>Chemical Propulsion Intern</td>\n",
       "    </tr>\n",
       "    <tr>\n",
       "      <th>1</th>\n",
       "      <td>Lumentum Operations LLC</td>\n",
       "      <td>&lt;span class=\"summary\" id=\"job_summary\"&gt;Test\n",
       "&lt;b...</td>\n",
       "      <td>Test Development Engineer Internship</td>\n",
       "    </tr>\n",
       "    <tr>\n",
       "      <th>2</th>\n",
       "      <td>Northrop Grumman</td>\n",
       "      <td>&lt;span class=\"summary\" id=\"job_summary\"&gt;We have...</td>\n",
       "      <td>Environmental Remediation Engineering Intern</td>\n",
       "    </tr>\n",
       "    <tr>\n",
       "      <th>3</th>\n",
       "      <td>ARLON GRAPHICS LLC</td>\n",
       "      <td>&lt;span class=\"summary\" id=\"job_summary\"&gt;SUMMARY...</td>\n",
       "      <td>Chemical Engineer Intern</td>\n",
       "    </tr>\n",
       "    <tr>\n",
       "      <th>4</th>\n",
       "      <td>Jabil Circuit</td>\n",
       "      <td>&lt;span class=\"summary\" id=\"job_summary\"&gt;About J...</td>\n",
       "      <td>Engineering Intern</td>\n",
       "    </tr>\n",
       "  </tbody>\n",
       "</table>\n",
       "</div>"
      ],
      "text/plain": [
       "                     company  \\\n",
       "0  The Aerospace Corporation   \n",
       "1    Lumentum Operations LLC   \n",
       "2           Northrop Grumman   \n",
       "3         ARLON GRAPHICS LLC   \n",
       "4              Jabil Circuit   \n",
       "\n",
       "                                         description  \\\n",
       "0  <span class=\"summary\" id=\"job_summary\">Requisi...   \n",
       "1  <span class=\"summary\" id=\"job_summary\">Test\n",
       "<b...   \n",
       "2  <span class=\"summary\" id=\"job_summary\">We have...   \n",
       "3  <span class=\"summary\" id=\"job_summary\">SUMMARY...   \n",
       "4  <span class=\"summary\" id=\"job_summary\">About J...   \n",
       "\n",
       "                                          title  \n",
       "0                    Chemical Propulsion Intern  \n",
       "1          Test Development Engineer Internship  \n",
       "2  Environmental Remediation Engineering Intern  \n",
       "3                      Chemical Engineer Intern  \n",
       "4                            Engineering Intern  "
      ]
     },
     "execution_count": 37,
     "metadata": {},
     "output_type": "execute_result"
    }
   ],
   "source": [
    "che_summary_intern.head()"
   ]
  },
  {
   "cell_type": "code",
   "execution_count": 39,
   "metadata": {},
   "outputs": [
    {
     "data": {
      "text/html": [
       "<div>\n",
       "<table border=\"1\" class=\"dataframe\">\n",
       "  <thead>\n",
       "    <tr style=\"text-align: right;\">\n",
       "      <th></th>\n",
       "      <th>company</th>\n",
       "      <th>description</th>\n",
       "      <th>title</th>\n",
       "    </tr>\n",
       "  </thead>\n",
       "  <tbody>\n",
       "    <tr>\n",
       "      <th>0</th>\n",
       "      <td>Tesla Motors</td>\n",
       "      <td>&lt;span class=\"summary\" id=\"job_summary\"&gt;The Rol...</td>\n",
       "      <td>Materials Engineering Internship (Summer 2017)</td>\n",
       "    </tr>\n",
       "    <tr>\n",
       "      <th>1</th>\n",
       "      <td>SpaceX</td>\n",
       "      <td>&lt;span class=\"summary\" id=\"job_summary\"&gt;SpaceX ...</td>\n",
       "      <td>Associate Engineer - Post Grad Fall 2017 (Hawt...</td>\n",
       "    </tr>\n",
       "    <tr>\n",
       "      <th>2</th>\n",
       "      <td>The Aerospace Corporation</td>\n",
       "      <td>&lt;span class=\"summary\" id=\"job_summary\"&gt;Requisi...</td>\n",
       "      <td>Electrical Grad Engineer Intern</td>\n",
       "    </tr>\n",
       "    <tr>\n",
       "      <th>3</th>\n",
       "      <td>Bosch Group</td>\n",
       "      <td>&lt;span class=\"summary\" id=\"job_summary\"&gt;Job Des...</td>\n",
       "      <td>Investigation of Novel High-Energy Li-ion Batt...</td>\n",
       "    </tr>\n",
       "    <tr>\n",
       "      <th>4</th>\n",
       "      <td>Bosch Group</td>\n",
       "      <td>&lt;span class=\"summary\" id=\"job_summary\"&gt;Job Des...</td>\n",
       "      <td>Determination of Material Properties for Advan...</td>\n",
       "    </tr>\n",
       "  </tbody>\n",
       "</table>\n",
       "</div>"
      ],
      "text/plain": [
       "                     company  \\\n",
       "0               Tesla Motors   \n",
       "1                     SpaceX   \n",
       "2  The Aerospace Corporation   \n",
       "3                Bosch Group   \n",
       "4                Bosch Group   \n",
       "\n",
       "                                         description  \\\n",
       "0  <span class=\"summary\" id=\"job_summary\">The Rol...   \n",
       "1  <span class=\"summary\" id=\"job_summary\">SpaceX ...   \n",
       "2  <span class=\"summary\" id=\"job_summary\">Requisi...   \n",
       "3  <span class=\"summary\" id=\"job_summary\">Job Des...   \n",
       "4  <span class=\"summary\" id=\"job_summary\">Job Des...   \n",
       "\n",
       "                                               title  \n",
       "0     Materials Engineering Internship (Summer 2017)  \n",
       "1  Associate Engineer - Post Grad Fall 2017 (Hawt...  \n",
       "2                    Electrical Grad Engineer Intern  \n",
       "3  Investigation of Novel High-Energy Li-ion Batt...  \n",
       "4  Determination of Material Properties for Advan...  "
      ]
     },
     "execution_count": 39,
     "metadata": {},
     "output_type": "execute_result"
    }
   ],
   "source": [
    "mse_summary_intern.head()"
   ]
  },
  {
   "cell_type": "code",
   "execution_count": null,
   "metadata": {
    "collapsed": true
   },
   "outputs": [],
   "source": []
  }
 ],
 "metadata": {
  "anaconda-cloud": {},
  "kernelspec": {
   "display_name": "Python 3",
   "language": "python",
   "name": "python3"
  },
  "language_info": {
   "codemirror_mode": {
    "name": "ipython",
    "version": 3
   },
   "file_extension": ".py",
   "mimetype": "text/x-python",
   "name": "python",
   "nbconvert_exporter": "python",
   "pygments_lexer": "ipython3",
   "version": "3.6.4"
  }
 },
 "nbformat": 4,
 "nbformat_minor": 1
}
